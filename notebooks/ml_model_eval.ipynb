{
 "cells": [
  {
   "cell_type": "markdown",
   "id": "e13c9a2c",
   "metadata": {},
   "source": [
    "## **Final Task** - Category prediction based on 'products.csv' data\n",
    "\n",
    "##### **Author**: Danilo Jelovac\n",
    "---\n",
    "##### >>. **Goal**:\n",
    "- Our goal here is to chose the best performing model and train it so it will predict\n",
    "product category based on the product itself with big precision. \n",
    "This notebook will use preprocessed data to train and evaluate different ML models.\n",
    "Once we get the best one, we will train it to predict categories.\n",
    "\n",
    "##### >>. **Requirements** (if not on colab/jupyter lab):\n",
    "- pandas\n",
    "- skicit-learn\n",
    "- jupyter\n",
    "- ipykernel\n"
   ]
  },
  {
   "cell_type": "markdown",
   "id": "958a912d",
   "metadata": {},
   "source": [
    "##### Step#1 - Importing libraries\n",
    "---"
   ]
  },
  {
   "cell_type": "code",
   "execution_count": 2,
   "id": "aad8eddf",
   "metadata": {},
   "outputs": [
    {
     "name": "stdout",
     "output_type": "stream",
     "text": [
      ">. If you see this message - the libraries are uploaded successfuly!\n",
      "\n"
     ]
    }
   ],
   "source": [
    "# ------------------------------------------\n",
    "# Importing libraries required for this task:\n",
    "# ------------------------------------------\n",
    "\n",
    "import pandas as pd\n",
    "# --\n",
    "from sklearn.feature_extraction.text import TfidfVectorizer\n",
    "# --\n",
    "from sklearn.model_selection import train_test_split\n",
    "from sklearn.preprocessing import MinMaxScaler\n",
    "from sklearn.pipeline import Pipeline\n",
    "from sklearn.compose import ColumnTransformer\n",
    "# --\n",
    "from sklearn.linear_model import LogisticRegression\n",
    "from sklearn.naive_bayes import MultinomialNB\n",
    "from sklearn.tree import DecisionTreeClassifier\n",
    "from sklearn.ensemble import RandomForestClassifier\n",
    "from sklearn.svm import LinearSVC\n",
    "# --\n",
    "from sklearn.metrics import classification_report\n",
    "\n",
    "# --Confirmation message:\n",
    "print(\">. If you see this message - the libraries are uploaded successfuly!\\n\")"
   ]
  },
  {
   "cell_type": "code",
   "execution_count": 4,
   "id": "c7dae7dd",
   "metadata": {},
   "outputs": [
    {
     "name": "stdout",
     "output_type": "stream",
     "text": [
      "\n",
      ">. Dataframe:\n",
      "------\n"
     ]
    },
    {
     "data": {
      "text/html": [
       "<div>\n",
       "<style scoped>\n",
       "    .dataframe tbody tr th:only-of-type {\n",
       "        vertical-align: middle;\n",
       "    }\n",
       "\n",
       "    .dataframe tbody tr th {\n",
       "        vertical-align: top;\n",
       "    }\n",
       "\n",
       "    .dataframe thead th {\n",
       "        text-align: right;\n",
       "    }\n",
       "</style>\n",
       "<table border=\"1\" class=\"dataframe\">\n",
       "  <thead>\n",
       "    <tr style=\"text-align: right;\">\n",
       "      <th></th>\n",
       "      <th>Unnamed: 0</th>\n",
       "      <th>product_title</th>\n",
       "      <th>category_label</th>\n",
       "    </tr>\n",
       "  </thead>\n",
       "  <tbody>\n",
       "    <tr>\n",
       "      <th>0</th>\n",
       "      <td>0</td>\n",
       "      <td>apple iphone 8 plus 64gb silver</td>\n",
       "      <td>Mobile Phones</td>\n",
       "    </tr>\n",
       "    <tr>\n",
       "      <th>1</th>\n",
       "      <td>1</td>\n",
       "      <td>apple iphone 8 plus 64 gb spacegrau</td>\n",
       "      <td>Mobile Phones</td>\n",
       "    </tr>\n",
       "    <tr>\n",
       "      <th>2</th>\n",
       "      <td>2</td>\n",
       "      <td>apple mq8n2b/a iphone 8 plus 64gb 5.5 12mp sim...</td>\n",
       "      <td>Mobile Phones</td>\n",
       "    </tr>\n",
       "    <tr>\n",
       "      <th>3</th>\n",
       "      <td>3</td>\n",
       "      <td>apple iphone 8 plus 64gb space grey</td>\n",
       "      <td>Mobile Phones</td>\n",
       "    </tr>\n",
       "    <tr>\n",
       "      <th>4</th>\n",
       "      <td>4</td>\n",
       "      <td>apple iphone 8 plus gold 5.5 64gb 4g unlocked ...</td>\n",
       "      <td>Mobile Phones</td>\n",
       "    </tr>\n",
       "  </tbody>\n",
       "</table>\n",
       "</div>"
      ],
      "text/plain": [
       "   Unnamed: 0                                      product_title  \\\n",
       "0           0                    apple iphone 8 plus 64gb silver   \n",
       "1           1                apple iphone 8 plus 64 gb spacegrau   \n",
       "2           2  apple mq8n2b/a iphone 8 plus 64gb 5.5 12mp sim...   \n",
       "3           3                apple iphone 8 plus 64gb space grey   \n",
       "4           4  apple iphone 8 plus gold 5.5 64gb 4g unlocked ...   \n",
       "\n",
       "  category_label  \n",
       "0  Mobile Phones  \n",
       "1  Mobile Phones  \n",
       "2  Mobile Phones  \n",
       "3  Mobile Phones  \n",
       "4  Mobile Phones  "
      ]
     },
     "metadata": {},
     "output_type": "display_data"
    },
    {
     "name": "stdout",
     "output_type": "stream",
     "text": [
      "\n",
      "-----\n",
      "\n"
     ]
    }
   ],
   "source": [
    "# ----------------------------------------------\n",
    "# Loading dataset, printing out samples and data:\n",
    "# ----------------------------------------------\n",
    "\n",
    "\n",
    "# ------------------------\n",
    "FOLDER_NAME = \"ml_data\"\n",
    "FILE_NAME = \"products_cleaned.csv\"\n",
    "# ------------------------\n",
    "\n",
    "\n",
    "# --Loading the dataframe:\n",
    "\n",
    "df = pd.read_csv(f\"../{FOLDER_NAME}/{FILE_NAME}\")\n",
    "\n",
    "# --Checking the df...\n",
    "\n",
    "print(\"\\n>. Dataframe:\\n------\")\n",
    "display(df.head())\n",
    "\n",
    "\n",
    "print(\"\\n-----\\n\")"
   ]
  },
  {
   "cell_type": "code",
   "execution_count": null,
   "id": "5f255814",
   "metadata": {},
   "outputs": [],
   "source": [
    "# -----------------\n",
    "# Chosing the model:\n",
    "# -----------------\n",
    "\n"
   ]
  }
 ],
 "metadata": {
  "kernelspec": {
   "display_name": ".venv",
   "language": "python",
   "name": "python3"
  },
  "language_info": {
   "codemirror_mode": {
    "name": "ipython",
    "version": 3
   },
   "file_extension": ".py",
   "mimetype": "text/x-python",
   "name": "python",
   "nbconvert_exporter": "python",
   "pygments_lexer": "ipython3",
   "version": "3.13.7"
  }
 },
 "nbformat": 4,
 "nbformat_minor": 5
}
